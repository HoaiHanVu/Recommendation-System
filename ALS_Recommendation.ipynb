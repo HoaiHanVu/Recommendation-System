{
 "cells": [
  {
   "cell_type": "code",
   "execution_count": 2,
   "id": "dd0c6a2f",
   "metadata": {},
   "outputs": [],
   "source": [
    "import findspark\n",
    "findspark.init()"
   ]
  },
  {
   "cell_type": "code",
   "execution_count": 3,
   "id": "ea8df652",
   "metadata": {},
   "outputs": [],
   "source": [
    "import pyspark\n",
    "from pyspark import SparkContext\n",
    "from pyspark.sql import SparkSession\n",
    "from pyspark.sql.functions import * \n",
    "from pyspark.sql.types import *"
   ]
  },
  {
   "cell_type": "code",
   "execution_count": 4,
   "id": "84f5fa68",
   "metadata": {},
   "outputs": [],
   "source": [
    "sc = SparkContext()\n",
    "spark = SparkSession(sc)"
   ]
  },
  {
   "cell_type": "code",
   "execution_count": 9,
   "id": "1726c4ab",
   "metadata": {},
   "outputs": [],
   "source": [
    "data = spark.read.csv('Reviews.csv', header = True)"
   ]
  },
  {
   "cell_type": "code",
   "execution_count": 10,
   "id": "cc0b4811",
   "metadata": {},
   "outputs": [
    {
     "name": "stdout",
     "output_type": "stream",
     "text": [
      "root\n",
      " |-- _c0: string (nullable = true)\n",
      " |-- customer_id: string (nullable = true)\n",
      " |-- product_id: string (nullable = true)\n",
      " |-- name: string (nullable = true)\n",
      " |-- rating: string (nullable = true)\n",
      " |-- title: string (nullable = true)\n",
      " |-- content: string (nullable = true)\n",
      "\n"
     ]
    }
   ],
   "source": [
    "data.printSchema()"
   ]
  },
  {
   "cell_type": "code",
   "execution_count": 11,
   "id": "50717b85",
   "metadata": {},
   "outputs": [
    {
     "name": "stdout",
     "output_type": "stream",
     "text": [
      "+---+-----------+----------+-----------------+------+------------------+--------------------+\n",
      "|_c0|customer_id|product_id|             name|rating|             title|             content|\n",
      "+---+-----------+----------+-----------------+------+------------------+--------------------+\n",
      "|  0|     709310|  10001012| Lân Nguyễn Hoàng|     3|Ko dùng đc thẻ nhớ|Lúcđầu quên thông...|\n",
      "|  1|   10701688|  10001012| Nguyễn Khánh Hòa|     5|   Cực kì hài lòng|Tiki giao hàng nh...|\n",
      "|  2|   11763074|  10001012|  Toàn Phạm Khánh|     5|   Cực kì hài lòng|chất lượng camera...|\n",
      "|  3|    9909549|  10001012|Nguyen Quang Minh|     5|      Rất hài lòng|Hàng được đóng gó...|\n",
      "|  4|    1827148|  10001012|      Phạm Bá Đức|     5|   Cực kì hài lòng|dễ cài đặt, chất ...|\n",
      "+---+-----------+----------+-----------------+------+------------------+--------------------+\n",
      "only showing top 5 rows\n",
      "\n"
     ]
    }
   ],
   "source": [
    "data.show(5)"
   ]
  },
  {
   "cell_type": "code",
   "execution_count": 12,
   "id": "c6b1fa33",
   "metadata": {},
   "outputs": [
    {
     "name": "stdout",
     "output_type": "stream",
     "text": [
      "+-----------+----------+------+\n",
      "|customer_id|product_id|rating|\n",
      "+-----------+----------+------+\n",
      "|     709310|  10001012|     3|\n",
      "|   10701688|  10001012|     5|\n",
      "|   11763074|  10001012|     5|\n",
      "|    9909549|  10001012|     5|\n",
      "|    1827148|  10001012|     5|\n",
      "+-----------+----------+------+\n",
      "only showing top 5 rows\n",
      "\n"
     ]
    }
   ],
   "source": [
    "data_sub = data[['customer_id', 'product_id', 'rating']]\n",
    "data_sub.show(5)"
   ]
  },
  {
   "cell_type": "code",
   "execution_count": 14,
   "id": "6f7b311d",
   "metadata": {},
   "outputs": [],
   "source": [
    "data_sub = data_sub.withColumn('rating', data_sub['rating'].cast(DoubleType()))"
   ]
  },
  {
   "cell_type": "code",
   "execution_count": 15,
   "id": "90a97f37",
   "metadata": {},
   "outputs": [
    {
     "name": "stdout",
     "output_type": "stream",
     "text": [
      "root\n",
      " |-- customer_id: string (nullable = true)\n",
      " |-- product_id: string (nullable = true)\n",
      " |-- rating: double (nullable = true)\n",
      "\n"
     ]
    }
   ],
   "source": [
    "data_sub.printSchema()"
   ]
  },
  {
   "cell_type": "code",
   "execution_count": 16,
   "id": "7fac8ce9",
   "metadata": {},
   "outputs": [
    {
     "name": "stdout",
     "output_type": "stream",
     "text": [
      "+-----------+----------+------+\n",
      "|customer_id|product_id|rating|\n",
      "+-----------+----------+------+\n",
      "|     709310|  10001012|   3.0|\n",
      "|   10701688|  10001012|   5.0|\n",
      "|   11763074|  10001012|   5.0|\n",
      "|    9909549|  10001012|   5.0|\n",
      "|    1827148|  10001012|   5.0|\n",
      "+-----------+----------+------+\n",
      "only showing top 5 rows\n",
      "\n"
     ]
    }
   ],
   "source": [
    "data_sub.show(5)"
   ]
  },
  {
   "cell_type": "code",
   "execution_count": 17,
   "id": "f9c0ce64",
   "metadata": {},
   "outputs": [],
   "source": [
    "users = data_sub.select('customer_id').distinct().count()\n",
    "products = data_sub.select('product_id').distinct().count()\n",
    "numerator = data_sub.count()"
   ]
  },
  {
   "cell_type": "code",
   "execution_count": 18,
   "id": "54d6229f",
   "metadata": {},
   "outputs": [
    {
     "data": {
      "text/plain": [
       "1167087984"
      ]
     },
     "execution_count": 18,
     "metadata": {},
     "output_type": "execute_result"
    }
   ],
   "source": [
    "denominator = users * products\n",
    "denominator"
   ]
  },
  {
   "cell_type": "code",
   "execution_count": 19,
   "id": "13d3dd6f",
   "metadata": {},
   "outputs": [
    {
     "name": "stdout",
     "output_type": "stream",
     "text": [
      "Sparsity: 0.9996891596820691\n"
     ]
    }
   ],
   "source": [
    "sparsity = 1 - (numerator * 1.0 / denominator)\n",
    "\n",
    "print('Sparsity: {}'.format(sparsity))"
   ]
  },
  {
   "cell_type": "code",
   "execution_count": 27,
   "id": "b2b77de5",
   "metadata": {},
   "outputs": [],
   "source": [
    "# from pyspark.ml.feature import StringIndexer\n",
    "# from pyspark.ml import Pipeline\n",
    "# from pyspark.ml.recommendation import ALS\n",
    "# from pyspark.ml.evaluation import RegressionEvaluator\n",
    "\n",
    "# indexer = StringIndexer(inputCol = 'product_id', outputCol = 'product_idx')\n",
    "# indexer_model = indexer.fit(data_sub)\n",
    "# data_indexed = indexer_model.transform(data_sub)\n",
    "\n",
    "# indexer1 = StringIndexer(inputCol = 'customer_id', outputCol = 'customer_idx')\n",
    "# indexer1_model = indexer1.fit(data_indexed)\n",
    "# data_indexed = indexer1_model.transform(data_indexed)"
   ]
  },
  {
   "cell_type": "code",
   "execution_count": 22,
   "id": "0437d6cf",
   "metadata": {},
   "outputs": [
    {
     "name": "stdout",
     "output_type": "stream",
     "text": [
      "+-----------+----------+------+-----------+\n",
      "|customer_id|product_id|rating|product_idx|\n",
      "+-----------+----------+------+-----------+\n",
      "|     709310|  10001012|   3.0|     2456.0|\n",
      "|   10701688|  10001012|   5.0|     2456.0|\n",
      "|   11763074|  10001012|   5.0|     2456.0|\n",
      "|    9909549|  10001012|   5.0|     2456.0|\n",
      "|    1827148|  10001012|   5.0|     2456.0|\n",
      "+-----------+----------+------+-----------+\n",
      "only showing top 5 rows\n",
      "\n"
     ]
    }
   ],
   "source": [
    "data_indexed.show(5)"
   ]
  },
  {
   "cell_type": "code",
   "execution_count": 23,
   "id": "4ff42237",
   "metadata": {},
   "outputs": [
    {
     "data": {
      "text/plain": [
       "362778"
      ]
     },
     "execution_count": 23,
     "metadata": {},
     "output_type": "execute_result"
    }
   ],
   "source": [
    "data_indexed.count()"
   ]
  },
  {
   "cell_type": "code",
   "execution_count": 24,
   "id": "a30f5b32",
   "metadata": {},
   "outputs": [],
   "source": [
    "train_data, test_data = data_indexed.randomSplit([0.8, 0.2], seed = 42)"
   ]
  },
  {
   "cell_type": "code",
   "execution_count": null,
   "id": "45f7d76e",
   "metadata": {},
   "outputs": [],
   "source": []
  }
 ],
 "metadata": {
  "kernelspec": {
   "display_name": "Python 3",
   "language": "python",
   "name": "python3"
  },
  "language_info": {
   "codemirror_mode": {
    "name": "ipython",
    "version": 3
   },
   "file_extension": ".py",
   "mimetype": "text/x-python",
   "name": "python",
   "nbconvert_exporter": "python",
   "pygments_lexer": "ipython3",
   "version": "3.8.10"
  }
 },
 "nbformat": 4,
 "nbformat_minor": 5
}
