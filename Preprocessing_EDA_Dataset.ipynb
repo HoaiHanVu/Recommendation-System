{
 "cells": [
  {
   "cell_type": "code",
   "execution_count": 50,
   "id": "f99e4263",
   "metadata": {},
   "outputs": [],
   "source": [
    "import numpy as np\n",
    "import pandas as pd\n",
    "import matplotlib.pyplot as plt\n",
    "import seaborn as sb\n",
    "import warnings\n",
    "warnings.filterwarnings('ignore')"
   ]
  },
  {
   "cell_type": "markdown",
   "id": "2a2f42a1",
   "metadata": {},
   "source": [
    "# 1. Cleaning & Preprocessing Data"
   ]
  },
  {
   "cell_type": "markdown",
   "id": "719b8073",
   "metadata": {},
   "source": [
    "- Làm sạch và tiền xử lý dữ liệu đối với `ProductRaw` dataset:"
   ]
  },
  {
   "cell_type": "code",
   "execution_count": 2,
   "id": "004c4da0",
   "metadata": {},
   "outputs": [
    {
     "data": {
      "text/html": [
       "<div>\n",
       "<style scoped>\n",
       "    .dataframe tbody tr th:only-of-type {\n",
       "        vertical-align: middle;\n",
       "    }\n",
       "\n",
       "    .dataframe tbody tr th {\n",
       "        vertical-align: top;\n",
       "    }\n",
       "\n",
       "    .dataframe thead th {\n",
       "        text-align: right;\n",
       "    }\n",
       "</style>\n",
       "<table border=\"1\" class=\"dataframe\">\n",
       "  <thead>\n",
       "    <tr style=\"text-align: right;\">\n",
       "      <th></th>\n",
       "      <th>item_id</th>\n",
       "      <th>name</th>\n",
       "      <th>description</th>\n",
       "      <th>rating</th>\n",
       "      <th>price</th>\n",
       "      <th>list_price</th>\n",
       "      <th>brand</th>\n",
       "      <th>group</th>\n",
       "      <th>url</th>\n",
       "      <th>image</th>\n",
       "    </tr>\n",
       "  </thead>\n",
       "  <tbody>\n",
       "    <tr>\n",
       "      <th>0</th>\n",
       "      <td>48102821</td>\n",
       "      <td>Tai nghe Bluetooth Inpods 12 - Cảm biến vân ta...</td>\n",
       "      <td>THÔNG TIN CHI TIẾT\\nDung lượng pin 300\\nThời g...</td>\n",
       "      <td>4.0</td>\n",
       "      <td>77000</td>\n",
       "      <td>300000</td>\n",
       "      <td>OEM</td>\n",
       "      <td>Thiết Bị Số - Phụ Kiện Số/Thiết Bị Âm Thanh và...</td>\n",
       "      <td>https://tai-nghe-bluetooth-inpods-12-cam-bien-...</td>\n",
       "      <td>https://salt.tikicdn.com/cache/280x280/ts/prod...</td>\n",
       "    </tr>\n",
       "    <tr>\n",
       "      <th>1</th>\n",
       "      <td>52333193</td>\n",
       "      <td>Tai nghe bluetooth không dây F9 True wireless ...</td>\n",
       "      <td>THÔNG TIN CHI TIẾT\\nDung lượng pin 2000mah\\nTh...</td>\n",
       "      <td>4.5</td>\n",
       "      <td>132000</td>\n",
       "      <td>750000</td>\n",
       "      <td>OEM</td>\n",
       "      <td>Thiết Bị Số - Phụ Kiện Số/Thiết Bị Âm Thanh và...</td>\n",
       "      <td>https://tai-nghe-bluetooth-khong-day-f9-true-w...</td>\n",
       "      <td>https://salt.tikicdn.com/cache/280x280/ts/prod...</td>\n",
       "    </tr>\n",
       "    <tr>\n",
       "      <th>2</th>\n",
       "      <td>299461</td>\n",
       "      <td>Chuột Không Dây Logitech M331 Silent - Hàng Ch...</td>\n",
       "      <td>THÔNG TIN CHI TIẾT\\nThương hiệu Logitech\\nĐộ p...</td>\n",
       "      <td>4.8</td>\n",
       "      <td>299000</td>\n",
       "      <td>399000</td>\n",
       "      <td>Logitech</td>\n",
       "      <td>Thiết Bị Số - Phụ Kiện Số/Phụ kiện máy tính và...</td>\n",
       "      <td>https://chuot-khong-day-logitech-m331-silent-p...</td>\n",
       "      <td>https://salt.tikicdn.com/cache/280x280/media/c...</td>\n",
       "    </tr>\n",
       "    <tr>\n",
       "      <th>3</th>\n",
       "      <td>57440329</td>\n",
       "      <td>Loa Bluetooth 5.0 Kiêm Đồng Hồ Báo Thức - [[ 2...</td>\n",
       "      <td>THÔNG TIN CHI TIẾT\\nThương hiệu Acome\\nXuất xứ...</td>\n",
       "      <td>4.7</td>\n",
       "      <td>149000</td>\n",
       "      <td>350000</td>\n",
       "      <td>Acome</td>\n",
       "      <td>Thiết Bị Số - Phụ Kiện Số/Thiết Bị Âm Thanh và...</td>\n",
       "      <td>https://loa-bluetooth-5-0-kiem-dong-ho-bao-thu...</td>\n",
       "      <td>https://salt.tikicdn.com/cache/280x280/ts/prod...</td>\n",
       "    </tr>\n",
       "    <tr>\n",
       "      <th>4</th>\n",
       "      <td>38458616</td>\n",
       "      <td>Tai Nghe Bluetooth Apple AirPods Pro True Wire...</td>\n",
       "      <td>THÔNG TIN CHI TIẾT\\nThương hiệu Apple\\nXuất xứ...</td>\n",
       "      <td>4.8</td>\n",
       "      <td>5090000</td>\n",
       "      <td>8500000</td>\n",
       "      <td>Apple</td>\n",
       "      <td>Thiết Bị Số - Phụ Kiện Số/Thiết Bị Âm Thanh và...</td>\n",
       "      <td>https://tai-nghe-bluetooth-apple-airpods-pro-t...</td>\n",
       "      <td>https://salt.tikicdn.com/cache/280x280/ts/prod...</td>\n",
       "    </tr>\n",
       "  </tbody>\n",
       "</table>\n",
       "</div>"
      ],
      "text/plain": [
       "    item_id                                               name  \\\n",
       "0  48102821  Tai nghe Bluetooth Inpods 12 - Cảm biến vân ta...   \n",
       "1  52333193  Tai nghe bluetooth không dây F9 True wireless ...   \n",
       "2    299461  Chuột Không Dây Logitech M331 Silent - Hàng Ch...   \n",
       "3  57440329  Loa Bluetooth 5.0 Kiêm Đồng Hồ Báo Thức - [[ 2...   \n",
       "4  38458616  Tai Nghe Bluetooth Apple AirPods Pro True Wire...   \n",
       "\n",
       "                                         description  rating    price  \\\n",
       "0  THÔNG TIN CHI TIẾT\\nDung lượng pin 300\\nThời g...     4.0    77000   \n",
       "1  THÔNG TIN CHI TIẾT\\nDung lượng pin 2000mah\\nTh...     4.5   132000   \n",
       "2  THÔNG TIN CHI TIẾT\\nThương hiệu Logitech\\nĐộ p...     4.8   299000   \n",
       "3  THÔNG TIN CHI TIẾT\\nThương hiệu Acome\\nXuất xứ...     4.7   149000   \n",
       "4  THÔNG TIN CHI TIẾT\\nThương hiệu Apple\\nXuất xứ...     4.8  5090000   \n",
       "\n",
       "   list_price     brand                                              group  \\\n",
       "0      300000       OEM  Thiết Bị Số - Phụ Kiện Số/Thiết Bị Âm Thanh và...   \n",
       "1      750000       OEM  Thiết Bị Số - Phụ Kiện Số/Thiết Bị Âm Thanh và...   \n",
       "2      399000  Logitech  Thiết Bị Số - Phụ Kiện Số/Phụ kiện máy tính và...   \n",
       "3      350000     Acome  Thiết Bị Số - Phụ Kiện Số/Thiết Bị Âm Thanh và...   \n",
       "4     8500000     Apple  Thiết Bị Số - Phụ Kiện Số/Thiết Bị Âm Thanh và...   \n",
       "\n",
       "                                                 url  \\\n",
       "0  https://tai-nghe-bluetooth-inpods-12-cam-bien-...   \n",
       "1  https://tai-nghe-bluetooth-khong-day-f9-true-w...   \n",
       "2  https://chuot-khong-day-logitech-m331-silent-p...   \n",
       "3  https://loa-bluetooth-5-0-kiem-dong-ho-bao-thu...   \n",
       "4  https://tai-nghe-bluetooth-apple-airpods-pro-t...   \n",
       "\n",
       "                                               image  \n",
       "0  https://salt.tikicdn.com/cache/280x280/ts/prod...  \n",
       "1  https://salt.tikicdn.com/cache/280x280/ts/prod...  \n",
       "2  https://salt.tikicdn.com/cache/280x280/media/c...  \n",
       "3  https://salt.tikicdn.com/cache/280x280/ts/prod...  \n",
       "4  https://salt.tikicdn.com/cache/280x280/ts/prod...  "
      ]
     },
     "execution_count": 2,
     "metadata": {},
     "output_type": "execute_result"
    }
   ],
   "source": [
    "products = pd.read_csv('ProductRaw.csv')\n",
    "products.head()"
   ]
  },
  {
   "cell_type": "code",
   "execution_count": 3,
   "id": "8ac80693",
   "metadata": {},
   "outputs": [
    {
     "name": "stdout",
     "output_type": "stream",
     "text": [
      "<class 'pandas.core.frame.DataFrame'>\n",
      "RangeIndex: 4404 entries, 0 to 4403\n",
      "Data columns (total 10 columns):\n",
      " #   Column       Non-Null Count  Dtype  \n",
      "---  ------       --------------  -----  \n",
      " 0   item_id      4404 non-null   int64  \n",
      " 1   name         4404 non-null   object \n",
      " 2   description  4401 non-null   object \n",
      " 3   rating       4404 non-null   float64\n",
      " 4   price        4404 non-null   int64  \n",
      " 5   list_price   4404 non-null   int64  \n",
      " 6   brand        4404 non-null   object \n",
      " 7   group        4404 non-null   object \n",
      " 8   url          4404 non-null   object \n",
      " 9   image        4404 non-null   object \n",
      "dtypes: float64(1), int64(3), object(6)\n",
      "memory usage: 344.2+ KB\n"
     ]
    }
   ],
   "source": [
    "products.info()"
   ]
  },
  {
   "cell_type": "markdown",
   "id": "6dc64226",
   "metadata": {},
   "source": [
    "- Kiểm tra và loại bỏ dữ liệu `null`, dữ liệu trùng lắp:"
   ]
  },
  {
   "cell_type": "code",
   "execution_count": 8,
   "id": "1b43cdb1",
   "metadata": {},
   "outputs": [
    {
     "name": "stdout",
     "output_type": "stream",
     "text": [
      "Number of duplicate values: 31\n"
     ]
    }
   ],
   "source": [
    "dup_val = len(products) - len(products.drop_duplicates())\n",
    "\n",
    "if dup_val > 0:\n",
    "    print('Number of duplicate values: {}'.format(dup_val))\n",
    "else:\n",
    "    print('No duplicate values.')"
   ]
  },
  {
   "cell_type": "code",
   "execution_count": 9,
   "id": "4513512d",
   "metadata": {},
   "outputs": [
    {
     "name": "stdout",
     "output_type": "stream",
     "text": [
      "Number of rows after drop duplication values: 4373\n"
     ]
    }
   ],
   "source": [
    "products.drop_duplicates(inplace = True)\n",
    "\n",
    "print('Number of rows after drop duplication values: {}'.format(len(products)))"
   ]
  },
  {
   "cell_type": "code",
   "execution_count": 10,
   "id": "43fd7ed5",
   "metadata": {},
   "outputs": [
    {
     "data": {
      "text/plain": [
       "item_id        0\n",
       "name           0\n",
       "description    3\n",
       "rating         0\n",
       "price          0\n",
       "list_price     0\n",
       "brand          0\n",
       "group          0\n",
       "url            0\n",
       "image          0\n",
       "dtype: int64"
      ]
     },
     "execution_count": 10,
     "metadata": {},
     "output_type": "execute_result"
    }
   ],
   "source": [
    "products.isnull().sum()"
   ]
  },
  {
   "cell_type": "code",
   "execution_count": 23,
   "id": "e4852723",
   "metadata": {},
   "outputs": [],
   "source": [
    "null_description = products.loc[products['description'].isnull()].index.tolist()\n",
    "products.drop(null_description, inplace = True)"
   ]
  },
  {
   "cell_type": "code",
   "execution_count": 25,
   "id": "debc5ae0",
   "metadata": {},
   "outputs": [
    {
     "data": {
      "text/plain": [
       "(4370, 11)"
      ]
     },
     "execution_count": 25,
     "metadata": {},
     "output_type": "execute_result"
    }
   ],
   "source": [
    "products = products.reset_index()\n",
    "products.shape"
   ]
  },
  {
   "cell_type": "code",
   "execution_count": 26,
   "id": "9533c24c",
   "metadata": {},
   "outputs": [
    {
     "data": {
      "text/html": [
       "<div>\n",
       "<style scoped>\n",
       "    .dataframe tbody tr th:only-of-type {\n",
       "        vertical-align: middle;\n",
       "    }\n",
       "\n",
       "    .dataframe tbody tr th {\n",
       "        vertical-align: top;\n",
       "    }\n",
       "\n",
       "    .dataframe thead th {\n",
       "        text-align: right;\n",
       "    }\n",
       "</style>\n",
       "<table border=\"1\" class=\"dataframe\">\n",
       "  <thead>\n",
       "    <tr style=\"text-align: right;\">\n",
       "      <th></th>\n",
       "      <th>index</th>\n",
       "      <th>item_id</th>\n",
       "      <th>name</th>\n",
       "      <th>description</th>\n",
       "      <th>rating</th>\n",
       "      <th>price</th>\n",
       "      <th>list_price</th>\n",
       "      <th>brand</th>\n",
       "      <th>group</th>\n",
       "      <th>url</th>\n",
       "      <th>image</th>\n",
       "    </tr>\n",
       "  </thead>\n",
       "  <tbody>\n",
       "    <tr>\n",
       "      <th>0</th>\n",
       "      <td>0</td>\n",
       "      <td>48102821</td>\n",
       "      <td>Tai nghe Bluetooth Inpods 12 - Cảm biến vân ta...</td>\n",
       "      <td>THÔNG TIN CHI TIẾT\\nDung lượng pin 300\\nThời g...</td>\n",
       "      <td>4.0</td>\n",
       "      <td>77000</td>\n",
       "      <td>300000</td>\n",
       "      <td>OEM</td>\n",
       "      <td>Thiết Bị Số - Phụ Kiện Số/Thiết Bị Âm Thanh và...</td>\n",
       "      <td>https://tai-nghe-bluetooth-inpods-12-cam-bien-...</td>\n",
       "      <td>https://salt.tikicdn.com/cache/280x280/ts/prod...</td>\n",
       "    </tr>\n",
       "    <tr>\n",
       "      <th>1</th>\n",
       "      <td>1</td>\n",
       "      <td>52333193</td>\n",
       "      <td>Tai nghe bluetooth không dây F9 True wireless ...</td>\n",
       "      <td>THÔNG TIN CHI TIẾT\\nDung lượng pin 2000mah\\nTh...</td>\n",
       "      <td>4.5</td>\n",
       "      <td>132000</td>\n",
       "      <td>750000</td>\n",
       "      <td>OEM</td>\n",
       "      <td>Thiết Bị Số - Phụ Kiện Số/Thiết Bị Âm Thanh và...</td>\n",
       "      <td>https://tai-nghe-bluetooth-khong-day-f9-true-w...</td>\n",
       "      <td>https://salt.tikicdn.com/cache/280x280/ts/prod...</td>\n",
       "    </tr>\n",
       "    <tr>\n",
       "      <th>2</th>\n",
       "      <td>2</td>\n",
       "      <td>299461</td>\n",
       "      <td>Chuột Không Dây Logitech M331 Silent - Hàng Ch...</td>\n",
       "      <td>THÔNG TIN CHI TIẾT\\nThương hiệu Logitech\\nĐộ p...</td>\n",
       "      <td>4.8</td>\n",
       "      <td>299000</td>\n",
       "      <td>399000</td>\n",
       "      <td>Logitech</td>\n",
       "      <td>Thiết Bị Số - Phụ Kiện Số/Phụ kiện máy tính và...</td>\n",
       "      <td>https://chuot-khong-day-logitech-m331-silent-p...</td>\n",
       "      <td>https://salt.tikicdn.com/cache/280x280/media/c...</td>\n",
       "    </tr>\n",
       "    <tr>\n",
       "      <th>3</th>\n",
       "      <td>3</td>\n",
       "      <td>57440329</td>\n",
       "      <td>Loa Bluetooth 5.0 Kiêm Đồng Hồ Báo Thức - [[ 2...</td>\n",
       "      <td>THÔNG TIN CHI TIẾT\\nThương hiệu Acome\\nXuất xứ...</td>\n",
       "      <td>4.7</td>\n",
       "      <td>149000</td>\n",
       "      <td>350000</td>\n",
       "      <td>Acome</td>\n",
       "      <td>Thiết Bị Số - Phụ Kiện Số/Thiết Bị Âm Thanh và...</td>\n",
       "      <td>https://loa-bluetooth-5-0-kiem-dong-ho-bao-thu...</td>\n",
       "      <td>https://salt.tikicdn.com/cache/280x280/ts/prod...</td>\n",
       "    </tr>\n",
       "    <tr>\n",
       "      <th>4</th>\n",
       "      <td>4</td>\n",
       "      <td>38458616</td>\n",
       "      <td>Tai Nghe Bluetooth Apple AirPods Pro True Wire...</td>\n",
       "      <td>THÔNG TIN CHI TIẾT\\nThương hiệu Apple\\nXuất xứ...</td>\n",
       "      <td>4.8</td>\n",
       "      <td>5090000</td>\n",
       "      <td>8500000</td>\n",
       "      <td>Apple</td>\n",
       "      <td>Thiết Bị Số - Phụ Kiện Số/Thiết Bị Âm Thanh và...</td>\n",
       "      <td>https://tai-nghe-bluetooth-apple-airpods-pro-t...</td>\n",
       "      <td>https://salt.tikicdn.com/cache/280x280/ts/prod...</td>\n",
       "    </tr>\n",
       "  </tbody>\n",
       "</table>\n",
       "</div>"
      ],
      "text/plain": [
       "   index   item_id                                               name  \\\n",
       "0      0  48102821  Tai nghe Bluetooth Inpods 12 - Cảm biến vân ta...   \n",
       "1      1  52333193  Tai nghe bluetooth không dây F9 True wireless ...   \n",
       "2      2    299461  Chuột Không Dây Logitech M331 Silent - Hàng Ch...   \n",
       "3      3  57440329  Loa Bluetooth 5.0 Kiêm Đồng Hồ Báo Thức - [[ 2...   \n",
       "4      4  38458616  Tai Nghe Bluetooth Apple AirPods Pro True Wire...   \n",
       "\n",
       "                                         description  rating    price  \\\n",
       "0  THÔNG TIN CHI TIẾT\\nDung lượng pin 300\\nThời g...     4.0    77000   \n",
       "1  THÔNG TIN CHI TIẾT\\nDung lượng pin 2000mah\\nTh...     4.5   132000   \n",
       "2  THÔNG TIN CHI TIẾT\\nThương hiệu Logitech\\nĐộ p...     4.8   299000   \n",
       "3  THÔNG TIN CHI TIẾT\\nThương hiệu Acome\\nXuất xứ...     4.7   149000   \n",
       "4  THÔNG TIN CHI TIẾT\\nThương hiệu Apple\\nXuất xứ...     4.8  5090000   \n",
       "\n",
       "   list_price     brand                                              group  \\\n",
       "0      300000       OEM  Thiết Bị Số - Phụ Kiện Số/Thiết Bị Âm Thanh và...   \n",
       "1      750000       OEM  Thiết Bị Số - Phụ Kiện Số/Thiết Bị Âm Thanh và...   \n",
       "2      399000  Logitech  Thiết Bị Số - Phụ Kiện Số/Phụ kiện máy tính và...   \n",
       "3      350000     Acome  Thiết Bị Số - Phụ Kiện Số/Thiết Bị Âm Thanh và...   \n",
       "4     8500000     Apple  Thiết Bị Số - Phụ Kiện Số/Thiết Bị Âm Thanh và...   \n",
       "\n",
       "                                                 url  \\\n",
       "0  https://tai-nghe-bluetooth-inpods-12-cam-bien-...   \n",
       "1  https://tai-nghe-bluetooth-khong-day-f9-true-w...   \n",
       "2  https://chuot-khong-day-logitech-m331-silent-p...   \n",
       "3  https://loa-bluetooth-5-0-kiem-dong-ho-bao-thu...   \n",
       "4  https://tai-nghe-bluetooth-apple-airpods-pro-t...   \n",
       "\n",
       "                                               image  \n",
       "0  https://salt.tikicdn.com/cache/280x280/ts/prod...  \n",
       "1  https://salt.tikicdn.com/cache/280x280/ts/prod...  \n",
       "2  https://salt.tikicdn.com/cache/280x280/media/c...  \n",
       "3  https://salt.tikicdn.com/cache/280x280/ts/prod...  \n",
       "4  https://salt.tikicdn.com/cache/280x280/ts/prod...  "
      ]
     },
     "execution_count": 26,
     "metadata": {},
     "output_type": "execute_result"
    }
   ],
   "source": [
    "products.head()"
   ]
  },
  {
   "cell_type": "markdown",
   "id": "eae1cffe",
   "metadata": {},
   "source": [
    "- Làm sạch và tiền xử lý dữ liệu với `ReviewRaw` dataset:"
   ]
  },
  {
   "cell_type": "code",
   "execution_count": 12,
   "id": "1ed7af07",
   "metadata": {},
   "outputs": [
    {
     "data": {
      "text/html": [
       "<div>\n",
       "<style scoped>\n",
       "    .dataframe tbody tr th:only-of-type {\n",
       "        vertical-align: middle;\n",
       "    }\n",
       "\n",
       "    .dataframe tbody tr th {\n",
       "        vertical-align: top;\n",
       "    }\n",
       "\n",
       "    .dataframe thead th {\n",
       "        text-align: right;\n",
       "    }\n",
       "</style>\n",
       "<table border=\"1\" class=\"dataframe\">\n",
       "  <thead>\n",
       "    <tr style=\"text-align: right;\">\n",
       "      <th></th>\n",
       "      <th>customer_id</th>\n",
       "      <th>product_id</th>\n",
       "      <th>name</th>\n",
       "      <th>full_name</th>\n",
       "      <th>created_time</th>\n",
       "      <th>rating</th>\n",
       "      <th>title</th>\n",
       "      <th>content</th>\n",
       "    </tr>\n",
       "  </thead>\n",
       "  <tbody>\n",
       "    <tr>\n",
       "      <th>0</th>\n",
       "      <td>709310</td>\n",
       "      <td>10001012</td>\n",
       "      <td>Lân Nguyễn Hoàng</td>\n",
       "      <td>Lân Nguyễn Hoàng</td>\n",
       "      <td>NaN</td>\n",
       "      <td>3</td>\n",
       "      <td>Ko dùng đc thẻ nhớ</td>\n",
       "      <td>Lúcđầu quên thông tin nên dùng 512gb thì ko đc...</td>\n",
       "    </tr>\n",
       "    <tr>\n",
       "      <th>1</th>\n",
       "      <td>10701688</td>\n",
       "      <td>10001012</td>\n",
       "      <td>Nguyễn Khánh Hòa</td>\n",
       "      <td>Nguyễn Khánh Hòa</td>\n",
       "      <td>NaN</td>\n",
       "      <td>5</td>\n",
       "      <td>Cực kì hài lòng</td>\n",
       "      <td>Tiki giao hàng nhanh. Sản phẩm đúng như mô tả,...</td>\n",
       "    </tr>\n",
       "    <tr>\n",
       "      <th>2</th>\n",
       "      <td>11763074</td>\n",
       "      <td>10001012</td>\n",
       "      <td>Toàn Phạm Khánh</td>\n",
       "      <td>Toàn Phạm Khánh</td>\n",
       "      <td>2019-04-17 15:42:45</td>\n",
       "      <td>5</td>\n",
       "      <td>Cực kì hài lòng</td>\n",
       "      <td>chất lượng camera rõ nét, chống mưa nắng tuyệt...</td>\n",
       "    </tr>\n",
       "    <tr>\n",
       "      <th>3</th>\n",
       "      <td>9909549</td>\n",
       "      <td>10001012</td>\n",
       "      <td>Nguyen Quang Minh</td>\n",
       "      <td>NaN</td>\n",
       "      <td>NaN</td>\n",
       "      <td>5</td>\n",
       "      <td>Rất hài lòng</td>\n",
       "      <td>Hàng được đóng gói cẩn thận, giao hàng nhanh ,...</td>\n",
       "    </tr>\n",
       "    <tr>\n",
       "      <th>4</th>\n",
       "      <td>1827148</td>\n",
       "      <td>10001012</td>\n",
       "      <td>Phạm Bá Đức</td>\n",
       "      <td>Phạm Bá Đức</td>\n",
       "      <td>NaN</td>\n",
       "      <td>5</td>\n",
       "      <td>Cực kì hài lòng</td>\n",
       "      <td>dễ cài đặt, chất lượng tốt, chế độ xem hồng ng...</td>\n",
       "    </tr>\n",
       "  </tbody>\n",
       "</table>\n",
       "</div>"
      ],
      "text/plain": [
       "   customer_id  product_id               name         full_name  \\\n",
       "0       709310    10001012   Lân Nguyễn Hoàng  Lân Nguyễn Hoàng   \n",
       "1     10701688    10001012   Nguyễn Khánh Hòa  Nguyễn Khánh Hòa   \n",
       "2     11763074    10001012    Toàn Phạm Khánh   Toàn Phạm Khánh   \n",
       "3      9909549    10001012  Nguyen Quang Minh               NaN   \n",
       "4      1827148    10001012        Phạm Bá Đức       Phạm Bá Đức   \n",
       "\n",
       "          created_time  rating               title  \\\n",
       "0                  NaN       3  Ko dùng đc thẻ nhớ   \n",
       "1                  NaN       5     Cực kì hài lòng   \n",
       "2  2019-04-17 15:42:45       5     Cực kì hài lòng   \n",
       "3                  NaN       5        Rất hài lòng   \n",
       "4                  NaN       5     Cực kì hài lòng   \n",
       "\n",
       "                                             content  \n",
       "0  Lúcđầu quên thông tin nên dùng 512gb thì ko đc...  \n",
       "1  Tiki giao hàng nhanh. Sản phẩm đúng như mô tả,...  \n",
       "2  chất lượng camera rõ nét, chống mưa nắng tuyệt...  \n",
       "3  Hàng được đóng gói cẩn thận, giao hàng nhanh ,...  \n",
       "4  dễ cài đặt, chất lượng tốt, chế độ xem hồng ng...  "
      ]
     },
     "execution_count": 12,
     "metadata": {},
     "output_type": "execute_result"
    }
   ],
   "source": [
    "reviews = pd.read_csv('ReviewRaw.csv')\n",
    "reviews.head()"
   ]
  },
  {
   "cell_type": "code",
   "execution_count": 13,
   "id": "cda857d1",
   "metadata": {},
   "outputs": [
    {
     "name": "stdout",
     "output_type": "stream",
     "text": [
      "<class 'pandas.core.frame.DataFrame'>\n",
      "RangeIndex: 364099 entries, 0 to 364098\n",
      "Data columns (total 8 columns):\n",
      " #   Column        Non-Null Count   Dtype \n",
      "---  ------        --------------   ----- \n",
      " 0   customer_id   364099 non-null  int64 \n",
      " 1   product_id    364099 non-null  int64 \n",
      " 2   name          363669 non-null  object\n",
      " 3   full_name     329471 non-null  object\n",
      " 4   created_time  117340 non-null  object\n",
      " 5   rating        364099 non-null  int64 \n",
      " 6   title         364070 non-null  object\n",
      " 7   content       165794 non-null  object\n",
      "dtypes: int64(3), object(5)\n",
      "memory usage: 22.2+ MB\n"
     ]
    }
   ],
   "source": [
    "reviews.info()"
   ]
  },
  {
   "cell_type": "markdown",
   "id": "4a30232a",
   "metadata": {},
   "source": [
    "- Kiểm tra và loại bỏ dữ liệu trùng lắp:"
   ]
  },
  {
   "cell_type": "code",
   "execution_count": 14,
   "id": "06eeada4",
   "metadata": {},
   "outputs": [
    {
     "name": "stdout",
     "output_type": "stream",
     "text": [
      "Number of duplicate values: 2349\n"
     ]
    }
   ],
   "source": [
    "dup_val = len(reviews) - len(reviews.drop_duplicates())\n",
    "\n",
    "if dup_val > 0:\n",
    "    print('Number of duplicate values: {}'.format(dup_val))\n",
    "else:\n",
    "    print('No duplicate values.')"
   ]
  },
  {
   "cell_type": "code",
   "execution_count": 15,
   "id": "70965185",
   "metadata": {},
   "outputs": [
    {
     "name": "stdout",
     "output_type": "stream",
     "text": [
      "Number of rows after drop duplication values: 361750\n"
     ]
    }
   ],
   "source": [
    "reviews.drop_duplicates(inplace = True)\n",
    "\n",
    "print('Number of rows after drop duplication values: {}'.format(len(reviews)))"
   ]
  },
  {
   "cell_type": "markdown",
   "id": "e6c0685d",
   "metadata": {},
   "source": [
    "- Xoá bỏ các cột chứa nhiều giá trị `null` và không cần thiết đối với việc áp dụng thuật toán sau này:"
   ]
  },
  {
   "cell_type": "code",
   "execution_count": 16,
   "id": "bc9c50d0",
   "metadata": {},
   "outputs": [
    {
     "data": {
      "text/plain": [
       "customer_id          0\n",
       "product_id           0\n",
       "name               428\n",
       "full_name        34603\n",
       "created_time    245525\n",
       "rating               0\n",
       "title               29\n",
       "content         196064\n",
       "dtype: int64"
      ]
     },
     "execution_count": 16,
     "metadata": {},
     "output_type": "execute_result"
    }
   ],
   "source": [
    "reviews.isnull().sum()"
   ]
  },
  {
   "cell_type": "code",
   "execution_count": 17,
   "id": "b7c73204",
   "metadata": {},
   "outputs": [
    {
     "data": {
      "text/html": [
       "<div>\n",
       "<style scoped>\n",
       "    .dataframe tbody tr th:only-of-type {\n",
       "        vertical-align: middle;\n",
       "    }\n",
       "\n",
       "    .dataframe tbody tr th {\n",
       "        vertical-align: top;\n",
       "    }\n",
       "\n",
       "    .dataframe thead th {\n",
       "        text-align: right;\n",
       "    }\n",
       "</style>\n",
       "<table border=\"1\" class=\"dataframe\">\n",
       "  <thead>\n",
       "    <tr style=\"text-align: right;\">\n",
       "      <th></th>\n",
       "      <th>customer_id</th>\n",
       "      <th>product_id</th>\n",
       "      <th>name</th>\n",
       "      <th>rating</th>\n",
       "      <th>title</th>\n",
       "      <th>content</th>\n",
       "    </tr>\n",
       "  </thead>\n",
       "  <tbody>\n",
       "    <tr>\n",
       "      <th>0</th>\n",
       "      <td>709310</td>\n",
       "      <td>10001012</td>\n",
       "      <td>Lân Nguyễn Hoàng</td>\n",
       "      <td>3</td>\n",
       "      <td>Ko dùng đc thẻ nhớ</td>\n",
       "      <td>Lúcđầu quên thông tin nên dùng 512gb thì ko đc...</td>\n",
       "    </tr>\n",
       "    <tr>\n",
       "      <th>1</th>\n",
       "      <td>10701688</td>\n",
       "      <td>10001012</td>\n",
       "      <td>Nguyễn Khánh Hòa</td>\n",
       "      <td>5</td>\n",
       "      <td>Cực kì hài lòng</td>\n",
       "      <td>Tiki giao hàng nhanh. Sản phẩm đúng như mô tả,...</td>\n",
       "    </tr>\n",
       "    <tr>\n",
       "      <th>2</th>\n",
       "      <td>11763074</td>\n",
       "      <td>10001012</td>\n",
       "      <td>Toàn Phạm Khánh</td>\n",
       "      <td>5</td>\n",
       "      <td>Cực kì hài lòng</td>\n",
       "      <td>chất lượng camera rõ nét, chống mưa nắng tuyệt...</td>\n",
       "    </tr>\n",
       "    <tr>\n",
       "      <th>3</th>\n",
       "      <td>9909549</td>\n",
       "      <td>10001012</td>\n",
       "      <td>Nguyen Quang Minh</td>\n",
       "      <td>5</td>\n",
       "      <td>Rất hài lòng</td>\n",
       "      <td>Hàng được đóng gói cẩn thận, giao hàng nhanh ,...</td>\n",
       "    </tr>\n",
       "    <tr>\n",
       "      <th>4</th>\n",
       "      <td>1827148</td>\n",
       "      <td>10001012</td>\n",
       "      <td>Phạm Bá Đức</td>\n",
       "      <td>5</td>\n",
       "      <td>Cực kì hài lòng</td>\n",
       "      <td>dễ cài đặt, chất lượng tốt, chế độ xem hồng ng...</td>\n",
       "    </tr>\n",
       "  </tbody>\n",
       "</table>\n",
       "</div>"
      ],
      "text/plain": [
       "   customer_id  product_id               name  rating               title  \\\n",
       "0       709310    10001012   Lân Nguyễn Hoàng       3  Ko dùng đc thẻ nhớ   \n",
       "1     10701688    10001012   Nguyễn Khánh Hòa       5     Cực kì hài lòng   \n",
       "2     11763074    10001012    Toàn Phạm Khánh       5     Cực kì hài lòng   \n",
       "3      9909549    10001012  Nguyen Quang Minh       5        Rất hài lòng   \n",
       "4      1827148    10001012        Phạm Bá Đức       5     Cực kì hài lòng   \n",
       "\n",
       "                                             content  \n",
       "0  Lúcđầu quên thông tin nên dùng 512gb thì ko đc...  \n",
       "1  Tiki giao hàng nhanh. Sản phẩm đúng như mô tả,...  \n",
       "2  chất lượng camera rõ nét, chống mưa nắng tuyệt...  \n",
       "3  Hàng được đóng gói cẩn thận, giao hàng nhanh ,...  \n",
       "4  dễ cài đặt, chất lượng tốt, chế độ xem hồng ng...  "
      ]
     },
     "execution_count": 17,
     "metadata": {},
     "output_type": "execute_result"
    }
   ],
   "source": [
    "reviews.drop(['full_name', 'created_time'], axis = 1, inplace = True)\n",
    "reviews.head()"
   ]
  },
  {
   "cell_type": "code",
   "execution_count": 19,
   "id": "be640839",
   "metadata": {},
   "outputs": [
    {
     "data": {
      "text/html": [
       "<div>\n",
       "<style scoped>\n",
       "    .dataframe tbody tr th:only-of-type {\n",
       "        vertical-align: middle;\n",
       "    }\n",
       "\n",
       "    .dataframe tbody tr th {\n",
       "        vertical-align: top;\n",
       "    }\n",
       "\n",
       "    .dataframe thead th {\n",
       "        text-align: right;\n",
       "    }\n",
       "</style>\n",
       "<table border=\"1\" class=\"dataframe\">\n",
       "  <thead>\n",
       "    <tr style=\"text-align: right;\">\n",
       "      <th></th>\n",
       "      <th>customer_id</th>\n",
       "      <th>product_id</th>\n",
       "      <th>name</th>\n",
       "      <th>rating</th>\n",
       "      <th>title</th>\n",
       "      <th>content</th>\n",
       "    </tr>\n",
       "  </thead>\n",
       "  <tbody>\n",
       "    <tr>\n",
       "      <th>156669</th>\n",
       "      <td>5687133</td>\n",
       "      <td>20845056</td>\n",
       "      <td>Lê Phương Tiến</td>\n",
       "      <td>4</td>\n",
       "      <td>Hài lòng</td>\n",
       "      <td>Hài lòng về máy sau 1 tuần dùng. Điểm trừ giao...</td>\n",
       "    </tr>\n",
       "    <tr>\n",
       "      <th>156670</th>\n",
       "      <td>8344149</td>\n",
       "      <td>20845056</td>\n",
       "      <td>Luu Tri Dung</td>\n",
       "      <td>5</td>\n",
       "      <td>Tuyệt vời</td>\n",
       "      <td>Giao hàng đúng thời gian dự kiến, có 2 ngày. M...</td>\n",
       "    </tr>\n",
       "    <tr>\n",
       "      <th>156671</th>\n",
       "      <td>10671105</td>\n",
       "      <td>20845056</td>\n",
       "      <td>Nguyễn Thu Hằng</td>\n",
       "      <td>5</td>\n",
       "      <td>Cực kì hài lòng</td>\n",
       "      <td>Sản phẩm được đóng gói cẩn thận, pin dùng được...</td>\n",
       "    </tr>\n",
       "    <tr>\n",
       "      <th>156683</th>\n",
       "      <td>373425</td>\n",
       "      <td>20845056</td>\n",
       "      <td>Quân Nguyễn</td>\n",
       "      <td>2</td>\n",
       "      <td>Nên mua ở ngoài</td>\n",
       "      <td>Mình mua kindle Paperwhite 2019 được tầm cỡ 2 ...</td>\n",
       "    </tr>\n",
       "    <tr>\n",
       "      <th>156691</th>\n",
       "      <td>1279789</td>\n",
       "      <td>20845056</td>\n",
       "      <td>Quân Trần</td>\n",
       "      <td>1</td>\n",
       "      <td>Ship chậm, máy ko active được</td>\n",
       "      <td>Tôi nhận đc sản phẩm ko active được. Khi liên ...</td>\n",
       "    </tr>\n",
       "    <tr>\n",
       "      <th>...</th>\n",
       "      <td>...</td>\n",
       "      <td>...</td>\n",
       "      <td>...</td>\n",
       "      <td>...</td>\n",
       "      <td>...</td>\n",
       "      <td>...</td>\n",
       "    </tr>\n",
       "    <tr>\n",
       "      <th>192248</th>\n",
       "      <td>10449689</td>\n",
       "      <td>12706787</td>\n",
       "      <td>Hai An</td>\n",
       "      <td>4</td>\n",
       "      <td>Hài lòng</td>\n",
       "      <td>có dùng cho dòng điện thoại khác ngoài iphone ...</td>\n",
       "    </tr>\n",
       "    <tr>\n",
       "      <th>192249</th>\n",
       "      <td>6079274</td>\n",
       "      <td>12706787</td>\n",
       "      <td>Nguyễn trung hiếu</td>\n",
       "      <td>4</td>\n",
       "      <td>Hàng nghe mượt, tốt</td>\n",
       "      <td>Hàng chuẩn! Nhưng mình đang phân vân ko biết 1...</td>\n",
       "    </tr>\n",
       "    <tr>\n",
       "      <th>192250</th>\n",
       "      <td>7474878</td>\n",
       "      <td>12706787</td>\n",
       "      <td>Mon Pham</td>\n",
       "      <td>5</td>\n",
       "      <td>Quá phê !!!!</td>\n",
       "      <td>Mong lần sau đừng giao hàng chậm nữa tháng như...</td>\n",
       "    </tr>\n",
       "    <tr>\n",
       "      <th>192251</th>\n",
       "      <td>13144258</td>\n",
       "      <td>12706787</td>\n",
       "      <td>Đỗ Đức Việt</td>\n",
       "      <td>5</td>\n",
       "      <td>Thắc mắc</td>\n",
       "      <td>Hàng nhập khẩu với hàng VNA khác nhau gì vậy T...</td>\n",
       "    </tr>\n",
       "    <tr>\n",
       "      <th>353457</th>\n",
       "      <td>197311</td>\n",
       "      <td>10006543</td>\n",
       "      <td>Trần Thị  Phương Linh</td>\n",
       "      <td>5</td>\n",
       "      <td>Cực kì hài lòng</td>\n",
       "      <td>NaN</td>\n",
       "    </tr>\n",
       "  </tbody>\n",
       "</table>\n",
       "<p>660 rows × 6 columns</p>\n",
       "</div>"
      ],
      "text/plain": [
       "        customer_id  product_id                   name  rating  \\\n",
       "156669      5687133    20845056         Lê Phương Tiến       4   \n",
       "156670      8344149    20845056           Luu Tri Dung       5   \n",
       "156671     10671105    20845056        Nguyễn Thu Hằng       5   \n",
       "156683       373425    20845056            Quân Nguyễn       2   \n",
       "156691      1279789    20845056              Quân Trần       1   \n",
       "...             ...         ...                    ...     ...   \n",
       "192248     10449689    12706787                 Hai An       4   \n",
       "192249      6079274    12706787      Nguyễn trung hiếu       4   \n",
       "192250      7474878    12706787               Mon Pham       5   \n",
       "192251     13144258    12706787            Đỗ Đức Việt       5   \n",
       "353457       197311    10006543  Trần Thị  Phương Linh       5   \n",
       "\n",
       "                                title  \\\n",
       "156669                       Hài lòng   \n",
       "156670                      Tuyệt vời   \n",
       "156671                Cực kì hài lòng   \n",
       "156683                Nên mua ở ngoài   \n",
       "156691  Ship chậm, máy ko active được   \n",
       "...                               ...   \n",
       "192248                       Hài lòng   \n",
       "192249            Hàng nghe mượt, tốt   \n",
       "192250                   Quá phê !!!!   \n",
       "192251                       Thắc mắc   \n",
       "353457                Cực kì hài lòng   \n",
       "\n",
       "                                                  content  \n",
       "156669  Hài lòng về máy sau 1 tuần dùng. Điểm trừ giao...  \n",
       "156670  Giao hàng đúng thời gian dự kiến, có 2 ngày. M...  \n",
       "156671  Sản phẩm được đóng gói cẩn thận, pin dùng được...  \n",
       "156683  Mình mua kindle Paperwhite 2019 được tầm cỡ 2 ...  \n",
       "156691  Tôi nhận đc sản phẩm ko active được. Khi liên ...  \n",
       "...                                                   ...  \n",
       "192248  có dùng cho dòng điện thoại khác ngoài iphone ...  \n",
       "192249  Hàng chuẩn! Nhưng mình đang phân vân ko biết 1...  \n",
       "192250  Mong lần sau đừng giao hàng chậm nữa tháng như...  \n",
       "192251  Hàng nhập khẩu với hàng VNA khác nhau gì vậy T...  \n",
       "353457                                                NaN  \n",
       "\n",
       "[660 rows x 6 columns]"
      ]
     },
     "execution_count": 19,
     "metadata": {},
     "output_type": "execute_result"
    }
   ],
   "source": [
    "reviews[~ reviews['product_id'].isin(products['item_id'])]"
   ]
  },
  {
   "cell_type": "markdown",
   "id": "8a4953eb",
   "metadata": {},
   "source": [
    "- Lọc các reviews của các `product_id` có trong cột `item_id` của file `ProductRaw`:"
   ]
  },
  {
   "cell_type": "code",
   "execution_count": 20,
   "id": "68ccb9e3",
   "metadata": {},
   "outputs": [],
   "source": [
    "reviews = reviews[reviews['product_id'].isin(products['item_id'])]"
   ]
  },
  {
   "cell_type": "code",
   "execution_count": 21,
   "id": "506255b0",
   "metadata": {},
   "outputs": [
    {
     "data": {
      "text/plain": [
       "(361090, 6)"
      ]
     },
     "execution_count": 21,
     "metadata": {},
     "output_type": "execute_result"
    }
   ],
   "source": [
    "reviews.shape"
   ]
  },
  {
   "cell_type": "markdown",
   "id": "91418a2f",
   "metadata": {},
   "source": [
    "- Lưu các file sau khi đã làm sạch và tiền xử lý:"
   ]
  },
  {
   "cell_type": "code",
   "execution_count": 30,
   "id": "dee19a44",
   "metadata": {},
   "outputs": [],
   "source": [
    "products.to_csv('Products.csv', index = False)\n",
    "reviews.to_csv('Reviews.csv')"
   ]
  },
  {
   "cell_type": "code",
   "execution_count": 69,
   "id": "2349d1b5",
   "metadata": {},
   "outputs": [
    {
     "data": {
      "text/html": [
       "<div>\n",
       "<style scoped>\n",
       "    .dataframe tbody tr th:only-of-type {\n",
       "        vertical-align: middle;\n",
       "    }\n",
       "\n",
       "    .dataframe tbody tr th {\n",
       "        vertical-align: top;\n",
       "    }\n",
       "\n",
       "    .dataframe thead th {\n",
       "        text-align: right;\n",
       "    }\n",
       "</style>\n",
       "<table border=\"1\" class=\"dataframe\">\n",
       "  <thead>\n",
       "    <tr style=\"text-align: right;\">\n",
       "      <th></th>\n",
       "      <th>index</th>\n",
       "      <th>item_id</th>\n",
       "      <th>name</th>\n",
       "      <th>description</th>\n",
       "      <th>rating</th>\n",
       "      <th>price</th>\n",
       "      <th>list_price</th>\n",
       "      <th>brand</th>\n",
       "      <th>group</th>\n",
       "      <th>url</th>\n",
       "      <th>image</th>\n",
       "    </tr>\n",
       "  </thead>\n",
       "  <tbody>\n",
       "    <tr>\n",
       "      <th>0</th>\n",
       "      <td>0</td>\n",
       "      <td>48102821</td>\n",
       "      <td>Tai nghe Bluetooth Inpods 12 - Cảm biến vân ta...</td>\n",
       "      <td>THÔNG TIN CHI TIẾT\\nDung lượng pin 300\\nThời g...</td>\n",
       "      <td>4.0</td>\n",
       "      <td>77000</td>\n",
       "      <td>300000</td>\n",
       "      <td>OEM</td>\n",
       "      <td>Thiết Bị Số - Phụ Kiện Số/Thiết Bị Âm Thanh và...</td>\n",
       "      <td>https://tai-nghe-bluetooth-inpods-12-cam-bien-...</td>\n",
       "      <td>https://salt.tikicdn.com/cache/280x280/ts/prod...</td>\n",
       "    </tr>\n",
       "    <tr>\n",
       "      <th>1</th>\n",
       "      <td>1</td>\n",
       "      <td>52333193</td>\n",
       "      <td>Tai nghe bluetooth không dây F9 True wireless ...</td>\n",
       "      <td>THÔNG TIN CHI TIẾT\\nDung lượng pin 2000mah\\nTh...</td>\n",
       "      <td>4.5</td>\n",
       "      <td>132000</td>\n",
       "      <td>750000</td>\n",
       "      <td>OEM</td>\n",
       "      <td>Thiết Bị Số - Phụ Kiện Số/Thiết Bị Âm Thanh và...</td>\n",
       "      <td>https://tai-nghe-bluetooth-khong-day-f9-true-w...</td>\n",
       "      <td>https://salt.tikicdn.com/cache/280x280/ts/prod...</td>\n",
       "    </tr>\n",
       "  </tbody>\n",
       "</table>\n",
       "</div>"
      ],
      "text/plain": [
       "   index   item_id                                               name  \\\n",
       "0      0  48102821  Tai nghe Bluetooth Inpods 12 - Cảm biến vân ta...   \n",
       "1      1  52333193  Tai nghe bluetooth không dây F9 True wireless ...   \n",
       "\n",
       "                                         description  rating   price  \\\n",
       "0  THÔNG TIN CHI TIẾT\\nDung lượng pin 300\\nThời g...     4.0   77000   \n",
       "1  THÔNG TIN CHI TIẾT\\nDung lượng pin 2000mah\\nTh...     4.5  132000   \n",
       "\n",
       "   list_price brand                                              group  \\\n",
       "0      300000   OEM  Thiết Bị Số - Phụ Kiện Số/Thiết Bị Âm Thanh và...   \n",
       "1      750000   OEM  Thiết Bị Số - Phụ Kiện Số/Thiết Bị Âm Thanh và...   \n",
       "\n",
       "                                                 url  \\\n",
       "0  https://tai-nghe-bluetooth-inpods-12-cam-bien-...   \n",
       "1  https://tai-nghe-bluetooth-khong-day-f9-true-w...   \n",
       "\n",
       "                                               image  \n",
       "0  https://salt.tikicdn.com/cache/280x280/ts/prod...  \n",
       "1  https://salt.tikicdn.com/cache/280x280/ts/prod...  "
      ]
     },
     "execution_count": 69,
     "metadata": {},
     "output_type": "execute_result"
    }
   ],
   "source": [
    "products.head(2)"
   ]
  },
  {
   "cell_type": "code",
   "execution_count": 70,
   "id": "83bc8578",
   "metadata": {},
   "outputs": [
    {
     "data": {
      "text/html": [
       "<div>\n",
       "<style scoped>\n",
       "    .dataframe tbody tr th:only-of-type {\n",
       "        vertical-align: middle;\n",
       "    }\n",
       "\n",
       "    .dataframe tbody tr th {\n",
       "        vertical-align: top;\n",
       "    }\n",
       "\n",
       "    .dataframe thead th {\n",
       "        text-align: right;\n",
       "    }\n",
       "</style>\n",
       "<table border=\"1\" class=\"dataframe\">\n",
       "  <thead>\n",
       "    <tr style=\"text-align: right;\">\n",
       "      <th></th>\n",
       "      <th>customer_id</th>\n",
       "      <th>product_id</th>\n",
       "      <th>name</th>\n",
       "      <th>rating</th>\n",
       "      <th>title</th>\n",
       "      <th>content</th>\n",
       "    </tr>\n",
       "  </thead>\n",
       "  <tbody>\n",
       "    <tr>\n",
       "      <th>201693</th>\n",
       "      <td>159465</td>\n",
       "      <td>48102821</td>\n",
       "      <td>Quách Tường Vy</td>\n",
       "      <td>4</td>\n",
       "      <td>Hài lòng</td>\n",
       "      <td>Ưu điểm: rẻ, đẹp, màu cũng đẹp, đeo vừa tai, n...</td>\n",
       "    </tr>\n",
       "    <tr>\n",
       "      <th>201694</th>\n",
       "      <td>16122994</td>\n",
       "      <td>48102821</td>\n",
       "      <td>Huy Hong L</td>\n",
       "      <td>5</td>\n",
       "      <td>Cực kì hài lòng</td>\n",
       "      <td>Hàng chất lượng nên mua nhaaa Mình đặt màu xan...</td>\n",
       "    </tr>\n",
       "    <tr>\n",
       "      <th>201695</th>\n",
       "      <td>18720987</td>\n",
       "      <td>48102821</td>\n",
       "      <td>Thắng Đỗ</td>\n",
       "      <td>2</td>\n",
       "      <td>Không hài lòng</td>\n",
       "      <td>Tôi đặt sp sáng nay và trưa có liền.Nhưng vấn ...</td>\n",
       "    </tr>\n",
       "    <tr>\n",
       "      <th>201696</th>\n",
       "      <td>19631063</td>\n",
       "      <td>48102821</td>\n",
       "      <td>apple user</td>\n",
       "      <td>4</td>\n",
       "      <td>Hài lòng</td>\n",
       "      <td>Sản phẩm OK , đẹp Nên kèm thêm hướng dẫn bằng ...</td>\n",
       "    </tr>\n",
       "    <tr>\n",
       "      <th>201697</th>\n",
       "      <td>1269974</td>\n",
       "      <td>48102821</td>\n",
       "      <td>Truc Pham</td>\n",
       "      <td>3</td>\n",
       "      <td>TẠM ĐƯỢC</td>\n",
       "      <td>Mẫu mã như hình chụp. Bluetooth bắt hơi yếu, h...</td>\n",
       "    </tr>\n",
       "    <tr>\n",
       "      <th>...</th>\n",
       "      <td>...</td>\n",
       "      <td>...</td>\n",
       "      <td>...</td>\n",
       "      <td>...</td>\n",
       "      <td>...</td>\n",
       "      <td>...</td>\n",
       "    </tr>\n",
       "    <tr>\n",
       "      <th>203186</th>\n",
       "      <td>12479631</td>\n",
       "      <td>48102821</td>\n",
       "      <td>Phan Tuấn Duy</td>\n",
       "      <td>5</td>\n",
       "      <td>Cực kì hài lòng</td>\n",
       "      <td>NaN</td>\n",
       "    </tr>\n",
       "    <tr>\n",
       "      <th>203188</th>\n",
       "      <td>19400913</td>\n",
       "      <td>48102821</td>\n",
       "      <td>Giao Linh</td>\n",
       "      <td>4</td>\n",
       "      <td>Hài lòng</td>\n",
       "      <td>NaN</td>\n",
       "    </tr>\n",
       "    <tr>\n",
       "      <th>203189</th>\n",
       "      <td>128735</td>\n",
       "      <td>48102821</td>\n",
       "      <td>Ái Bình Đường</td>\n",
       "      <td>1</td>\n",
       "      <td>Rất không hài lòng</td>\n",
       "      <td>Tai nghe chưa được 1 phút thì báo tắt, sạc pin...</td>\n",
       "    </tr>\n",
       "    <tr>\n",
       "      <th>203190</th>\n",
       "      <td>14371323</td>\n",
       "      <td>48102821</td>\n",
       "      <td>Thẩm TAnh</td>\n",
       "      <td>1</td>\n",
       "      <td>Rất không hài lòng</td>\n",
       "      <td>Sản phẩm chỉ nghe đc 1 bên tai</td>\n",
       "    </tr>\n",
       "    <tr>\n",
       "      <th>203191</th>\n",
       "      <td>20588584</td>\n",
       "      <td>48102821</td>\n",
       "      <td>Linh Hồ</td>\n",
       "      <td>5</td>\n",
       "      <td>Cực kì hài lòng</td>\n",
       "      <td>sản phẩm rất tốt nha giao hàng nhashipper thì ...</td>\n",
       "    </tr>\n",
       "  </tbody>\n",
       "</table>\n",
       "<p>1446 rows × 6 columns</p>\n",
       "</div>"
      ],
      "text/plain": [
       "        customer_id  product_id            name  rating               title  \\\n",
       "201693       159465    48102821  Quách Tường Vy       4            Hài lòng   \n",
       "201694     16122994    48102821      Huy Hong L       5     Cực kì hài lòng   \n",
       "201695     18720987    48102821        Thắng Đỗ       2      Không hài lòng   \n",
       "201696     19631063    48102821      apple user       4            Hài lòng   \n",
       "201697      1269974    48102821       Truc Pham       3            TẠM ĐƯỢC   \n",
       "...             ...         ...             ...     ...                 ...   \n",
       "203186     12479631    48102821   Phan Tuấn Duy       5     Cực kì hài lòng   \n",
       "203188     19400913    48102821       Giao Linh       4            Hài lòng   \n",
       "203189       128735    48102821   Ái Bình Đường       1  Rất không hài lòng   \n",
       "203190     14371323    48102821       Thẩm TAnh       1  Rất không hài lòng   \n",
       "203191     20588584    48102821         Linh Hồ       5     Cực kì hài lòng   \n",
       "\n",
       "                                                  content  \n",
       "201693  Ưu điểm: rẻ, đẹp, màu cũng đẹp, đeo vừa tai, n...  \n",
       "201694  Hàng chất lượng nên mua nhaaa Mình đặt màu xan...  \n",
       "201695  Tôi đặt sp sáng nay và trưa có liền.Nhưng vấn ...  \n",
       "201696  Sản phẩm OK , đẹp Nên kèm thêm hướng dẫn bằng ...  \n",
       "201697  Mẫu mã như hình chụp. Bluetooth bắt hơi yếu, h...  \n",
       "...                                                   ...  \n",
       "203186                                                NaN  \n",
       "203188                                                NaN  \n",
       "203189  Tai nghe chưa được 1 phút thì báo tắt, sạc pin...  \n",
       "203190                     Sản phẩm chỉ nghe đc 1 bên tai  \n",
       "203191  sản phẩm rất tốt nha giao hàng nhashipper thì ...  \n",
       "\n",
       "[1446 rows x 6 columns]"
      ]
     },
     "execution_count": 70,
     "metadata": {},
     "output_type": "execute_result"
    }
   ],
   "source": [
    "reviews.loc[reviews['product_id'] == 48102821]"
   ]
  },
  {
   "cell_type": "markdown",
   "id": "0c79f927",
   "metadata": {},
   "source": [
    "# 2. EDA"
   ]
  },
  {
   "cell_type": "markdown",
   "id": "cec28075",
   "metadata": {},
   "source": [
    "- Sau khi làm sạch và tiền xử lý, ta sẽ phân tích một số khía cạnh của cả 2 dataset để có cái nhìn tổng quan hơn:"
   ]
  },
  {
   "cell_type": "code",
   "execution_count": 33,
   "id": "605a8a58",
   "metadata": {},
   "outputs": [
    {
     "data": {
      "text/html": [
       "<div>\n",
       "<style scoped>\n",
       "    .dataframe tbody tr th:only-of-type {\n",
       "        vertical-align: middle;\n",
       "    }\n",
       "\n",
       "    .dataframe tbody tr th {\n",
       "        vertical-align: top;\n",
       "    }\n",
       "\n",
       "    .dataframe thead th {\n",
       "        text-align: right;\n",
       "    }\n",
       "</style>\n",
       "<table border=\"1\" class=\"dataframe\">\n",
       "  <thead>\n",
       "    <tr style=\"text-align: right;\">\n",
       "      <th></th>\n",
       "      <th>index</th>\n",
       "      <th>item_id</th>\n",
       "      <th>name</th>\n",
       "      <th>description</th>\n",
       "      <th>rating</th>\n",
       "      <th>price</th>\n",
       "      <th>list_price</th>\n",
       "      <th>brand</th>\n",
       "      <th>group</th>\n",
       "      <th>url</th>\n",
       "      <th>image</th>\n",
       "    </tr>\n",
       "  </thead>\n",
       "  <tbody>\n",
       "    <tr>\n",
       "      <th>0</th>\n",
       "      <td>0</td>\n",
       "      <td>48102821</td>\n",
       "      <td>Tai nghe Bluetooth Inpods 12 - Cảm biến vân ta...</td>\n",
       "      <td>THÔNG TIN CHI TIẾT\\nDung lượng pin 300\\nThời g...</td>\n",
       "      <td>4.0</td>\n",
       "      <td>77000</td>\n",
       "      <td>300000</td>\n",
       "      <td>OEM</td>\n",
       "      <td>Thiết Bị Số - Phụ Kiện Số/Thiết Bị Âm Thanh và...</td>\n",
       "      <td>https://tai-nghe-bluetooth-inpods-12-cam-bien-...</td>\n",
       "      <td>https://salt.tikicdn.com/cache/280x280/ts/prod...</td>\n",
       "    </tr>\n",
       "    <tr>\n",
       "      <th>1</th>\n",
       "      <td>1</td>\n",
       "      <td>52333193</td>\n",
       "      <td>Tai nghe bluetooth không dây F9 True wireless ...</td>\n",
       "      <td>THÔNG TIN CHI TIẾT\\nDung lượng pin 2000mah\\nTh...</td>\n",
       "      <td>4.5</td>\n",
       "      <td>132000</td>\n",
       "      <td>750000</td>\n",
       "      <td>OEM</td>\n",
       "      <td>Thiết Bị Số - Phụ Kiện Số/Thiết Bị Âm Thanh và...</td>\n",
       "      <td>https://tai-nghe-bluetooth-khong-day-f9-true-w...</td>\n",
       "      <td>https://salt.tikicdn.com/cache/280x280/ts/prod...</td>\n",
       "    </tr>\n",
       "    <tr>\n",
       "      <th>2</th>\n",
       "      <td>2</td>\n",
       "      <td>299461</td>\n",
       "      <td>Chuột Không Dây Logitech M331 Silent - Hàng Ch...</td>\n",
       "      <td>THÔNG TIN CHI TIẾT\\nThương hiệu Logitech\\nĐộ p...</td>\n",
       "      <td>4.8</td>\n",
       "      <td>299000</td>\n",
       "      <td>399000</td>\n",
       "      <td>Logitech</td>\n",
       "      <td>Thiết Bị Số - Phụ Kiện Số/Phụ kiện máy tính và...</td>\n",
       "      <td>https://chuot-khong-day-logitech-m331-silent-p...</td>\n",
       "      <td>https://salt.tikicdn.com/cache/280x280/media/c...</td>\n",
       "    </tr>\n",
       "  </tbody>\n",
       "</table>\n",
       "</div>"
      ],
      "text/plain": [
       "   index   item_id                                               name  \\\n",
       "0      0  48102821  Tai nghe Bluetooth Inpods 12 - Cảm biến vân ta...   \n",
       "1      1  52333193  Tai nghe bluetooth không dây F9 True wireless ...   \n",
       "2      2    299461  Chuột Không Dây Logitech M331 Silent - Hàng Ch...   \n",
       "\n",
       "                                         description  rating   price  \\\n",
       "0  THÔNG TIN CHI TIẾT\\nDung lượng pin 300\\nThời g...     4.0   77000   \n",
       "1  THÔNG TIN CHI TIẾT\\nDung lượng pin 2000mah\\nTh...     4.5  132000   \n",
       "2  THÔNG TIN CHI TIẾT\\nThương hiệu Logitech\\nĐộ p...     4.8  299000   \n",
       "\n",
       "   list_price     brand                                              group  \\\n",
       "0      300000       OEM  Thiết Bị Số - Phụ Kiện Số/Thiết Bị Âm Thanh và...   \n",
       "1      750000       OEM  Thiết Bị Số - Phụ Kiện Số/Thiết Bị Âm Thanh và...   \n",
       "2      399000  Logitech  Thiết Bị Số - Phụ Kiện Số/Phụ kiện máy tính và...   \n",
       "\n",
       "                                                 url  \\\n",
       "0  https://tai-nghe-bluetooth-inpods-12-cam-bien-...   \n",
       "1  https://tai-nghe-bluetooth-khong-day-f9-true-w...   \n",
       "2  https://chuot-khong-day-logitech-m331-silent-p...   \n",
       "\n",
       "                                               image  \n",
       "0  https://salt.tikicdn.com/cache/280x280/ts/prod...  \n",
       "1  https://salt.tikicdn.com/cache/280x280/ts/prod...  \n",
       "2  https://salt.tikicdn.com/cache/280x280/media/c...  "
      ]
     },
     "execution_count": 33,
     "metadata": {},
     "output_type": "execute_result"
    }
   ],
   "source": [
    "product = pd.read_csv('Products.csv')\n",
    "product.head(3)"
   ]
  },
  {
   "cell_type": "markdown",
   "id": "e0d4a48f",
   "metadata": {},
   "source": [
    "- Top 10 thương hiệu có nhiều đơn đặt hàng nhất:"
   ]
  },
  {
   "cell_type": "code",
   "execution_count": 130,
   "id": "9b7be00e",
   "metadata": {
    "scrolled": true
   },
   "outputs": [
    {
     "data": {
      "text/plain": [
       "0.0    788\n",
       "5.0    593\n",
       "4.8    442\n",
       "4.7    427\n",
       "4.6    361\n",
       "4.5    326\n",
       "4.3    233\n",
       "4.9    220\n",
       "4.0    204\n",
       "4.4    191\n",
       "4.2    125\n",
       "4.1     77\n",
       "3.8     61\n",
       "3.7     53\n",
       "3.0     52\n",
       "3.9     49\n",
       "3.5     40\n",
       "1.0     24\n",
       "3.6     23\n",
       "3.3     17\n",
       "3.4     15\n",
       "3.2      9\n",
       "2.0      7\n",
       "2.5      7\n",
       "2.7      6\n",
       "3.1      5\n",
       "2.8      4\n",
       "2.3      4\n",
       "1.3      2\n",
       "2.2      2\n",
       "2.6      1\n",
       "2.1      1\n",
       "1.8      1\n",
       "Name: rating, dtype: int64"
      ]
     },
     "execution_count": 130,
     "metadata": {},
     "output_type": "execute_result"
    }
   ],
   "source": [
    "product['rating'].value_counts()"
   ]
  },
  {
   "cell_type": "code",
   "execution_count": 42,
   "id": "ba649413",
   "metadata": {},
   "outputs": [],
   "source": [
    "a = product['brand'].value_counts().sort_values(ascending = False)[: 10]"
   ]
  },
  {
   "cell_type": "code",
   "execution_count": 53,
   "id": "168de55e",
   "metadata": {},
   "outputs": [
    {
     "data": {
      "image/png": "[encoded data removed]",
      "text/plain": [
       "<Figure size 720x432 with 1 Axes>"
      ]
     },
     "metadata": {},
     "output_type": "display_data"
    }
   ],
   "source": [
    "sb.set_theme()\n",
    "plt.figure(figsize = (10, 6))\n",
    "sb.barplot(a.index, a.values)\n",
    "plt.grid(True);"
   ]
  },
  {
   "cell_type": "markdown",
   "id": "d7386db4",
   "metadata": {},
   "source": [
    "- Brand `OEM` có số lượng đơn đặt hàng vượt trội hơn hẳn so với cái brand khác trong bảng xếp hạng."
   ]
  },
  {
   "cell_type": "code",
   "execution_count": 59,
   "id": "ea927fe5",
   "metadata": {},
   "outputs": [
    {
     "data": {
      "text/plain": [
       "brand\n",
       "\\tOEM          5.0\n",
       "RONALD JACK    5.0\n",
       "Midea          5.0\n",
       "California     5.0\n",
       "COOL COLD      5.0\n",
       "CHOETECH       5.0\n",
       "Nexus          5.0\n",
       "QGeeM          5.0\n",
       "Biostar        5.0\n",
       "Alaska         5.0\n",
       "Name: rating, dtype: float64"
      ]
     },
     "execution_count": 59,
     "metadata": {},
     "output_type": "execute_result"
    }
   ],
   "source": [
    "product.groupby('brand')['rating'].mean().sort_values(ascending = False)[: 10]"
   ]
  },
  {
   "cell_type": "code",
   "execution_count": 103,
   "id": "400ea467",
   "metadata": {},
   "outputs": [
    {
     "data": {
      "image/png": "[encoded data removed]",
      "text/plain": [
       "<Figure size 432x720 with 1 Axes>"
      ]
     },
     "metadata": {},
     "output_type": "display_data"
    }
   ],
   "source": [
    "plt.figure(figsize=(6, 10))\n",
    "plt.boxplot(products['price']);"
   ]
  },
  {
   "cell_type": "markdown",
   "id": "ab3eb7f0",
   "metadata": {},
   "source": [
    "- Range giá bán của các sản phẩm trải khá rộng."
   ]
  },
  {
   "cell_type": "code",
   "execution_count": 99,
   "id": "fe78747c",
   "metadata": {},
   "outputs": [
    {
     "data": {
      "image/png": "[encoded data removed]",
      "text/plain": [
       "<Figure size 360x360 with 1 Axes>"
      ]
     },
     "metadata": {},
     "output_type": "display_data"
    }
   ],
   "source": [
    "sb.displot(data = products, x='rating', kde = True);"
   ]
  },
  {
   "cell_type": "markdown",
   "id": "280a1605",
   "metadata": {},
   "source": [
    "- Các đánh giá sản phẩm chủ yếu từ mức trung tính (3) đến mức tích cực(4 - 5) chiếm số lượng khá lớn. Có một số lượng lớn các đánh giá ở mức 0 điểm, nhìn vào biểu đồ và các trực quan hoá phía trên, điều này xảy ra có thể do thông tin bị thiếu hoặc sai sót ở khâu thu thập dữ liệu."
   ]
  },
  {
   "cell_type": "code",
   "execution_count": 80,
   "id": "18e0d33e",
   "metadata": {},
   "outputs": [
    {
     "data": {
      "text/plain": [
       "brand\n",
       "\\tOEM               26000\n",
       " BUBM              259000\n",
       " Casper          24788000\n",
       " CoolerMaster    17978000\n",
       " EZVIZ           26555000\n",
       "                   ...   \n",
       "hohem             1290000\n",
       "ipass              980000\n",
       "new vision         779211\n",
       "vivan              607000\n",
       "xMOWI              169000\n",
       "Name: price, Length: 521, dtype: int64"
      ]
     },
     "execution_count": 80,
     "metadata": {},
     "output_type": "execute_result"
    }
   ],
   "source": [
    "sum_price_per_brand = products.groupby('brand')['price'].sum()\n",
    "sum_price_per_brand"
   ]
  },
  {
   "cell_type": "code",
   "execution_count": 95,
   "id": "ecddac24",
   "metadata": {},
   "outputs": [],
   "source": [
    "b = sum_price_per_brand.sort_values(ascending = False)[: 10]"
   ]
  },
  {
   "cell_type": "code",
   "execution_count": 88,
   "id": "90d05ccb",
   "metadata": {},
   "outputs": [
    {
     "data": {
      "image/png": "[encoded data removed]",
      "text/plain": [
       "<Figure size 720x432 with 1 Axes>"
      ]
     },
     "metadata": {},
     "output_type": "display_data"
    }
   ],
   "source": [
    "plt.figure(figsize=(10, 6))\n",
    "sb.barplot(x = b.index, y = b.values);"
   ]
  },
  {
   "cell_type": "markdown",
   "id": "e039911f",
   "metadata": {},
   "source": [
    "- Biểu đồ thể hiện tổng doanh thu của 10 brand có doanh thu cao nhất, brand `OEM` mặc dù có lượng đơn hàng vượt trội tuy nhiên tổng doanh thu xếp sau khá nhiều brand có lượng đơn hàng thấp."
   ]
  },
  {
   "cell_type": "code",
   "execution_count": 127,
   "id": "aff5160f",
   "metadata": {},
   "outputs": [
    {
     "data": {
      "image/png": "[encoded data removed]",
      "text/plain": [
       "<Figure size 720x432 with 1 Axes>"
      ]
     },
     "metadata": {},
     "output_type": "display_data"
    }
   ],
   "source": [
    "c = products.groupby('brand')['rating'].mean().sort_values(ascending = False)[: 10]\n",
    "plt.figure(figsize=(10, 6))\n",
    "sb.barplot(c.index, c.values)\n",
    "plt.xticks(rotation = 45);"
   ]
  },
  {
   "cell_type": "markdown",
   "id": "5b1c7025",
   "metadata": {},
   "source": [
    "- Trung bình `rating` của top 10 thương hiệu có `rating` cao nhất"
   ]
  },
  {
   "cell_type": "code",
   "execution_count": 100,
   "id": "895854b6",
   "metadata": {},
   "outputs": [
    {
     "data": {
      "text/html": [
       "<div>\n",
       "<style scoped>\n",
       "    .dataframe tbody tr th:only-of-type {\n",
       "        vertical-align: middle;\n",
       "    }\n",
       "\n",
       "    .dataframe tbody tr th {\n",
       "        vertical-align: top;\n",
       "    }\n",
       "\n",
       "    .dataframe thead th {\n",
       "        text-align: right;\n",
       "    }\n",
       "</style>\n",
       "<table border=\"1\" class=\"dataframe\">\n",
       "  <thead>\n",
       "    <tr style=\"text-align: right;\">\n",
       "      <th></th>\n",
       "      <th>customer_id</th>\n",
       "      <th>product_id</th>\n",
       "      <th>name</th>\n",
       "      <th>rating</th>\n",
       "      <th>title</th>\n",
       "      <th>content</th>\n",
       "    </tr>\n",
       "  </thead>\n",
       "  <tbody>\n",
       "    <tr>\n",
       "      <th>0</th>\n",
       "      <td>709310</td>\n",
       "      <td>10001012</td>\n",
       "      <td>Lân Nguyễn Hoàng</td>\n",
       "      <td>3</td>\n",
       "      <td>Ko dùng đc thẻ nhớ</td>\n",
       "      <td>Lúcđầu quên thông tin nên dùng 512gb thì ko đc...</td>\n",
       "    </tr>\n",
       "    <tr>\n",
       "      <th>1</th>\n",
       "      <td>10701688</td>\n",
       "      <td>10001012</td>\n",
       "      <td>Nguyễn Khánh Hòa</td>\n",
       "      <td>5</td>\n",
       "      <td>Cực kì hài lòng</td>\n",
       "      <td>Tiki giao hàng nhanh. Sản phẩm đúng như mô tả,...</td>\n",
       "    </tr>\n",
       "    <tr>\n",
       "      <th>2</th>\n",
       "      <td>11763074</td>\n",
       "      <td>10001012</td>\n",
       "      <td>Toàn Phạm Khánh</td>\n",
       "      <td>5</td>\n",
       "      <td>Cực kì hài lòng</td>\n",
       "      <td>chất lượng camera rõ nét, chống mưa nắng tuyệt...</td>\n",
       "    </tr>\n",
       "    <tr>\n",
       "      <th>3</th>\n",
       "      <td>9909549</td>\n",
       "      <td>10001012</td>\n",
       "      <td>Nguyen Quang Minh</td>\n",
       "      <td>5</td>\n",
       "      <td>Rất hài lòng</td>\n",
       "      <td>Hàng được đóng gói cẩn thận, giao hàng nhanh ,...</td>\n",
       "    </tr>\n",
       "    <tr>\n",
       "      <th>4</th>\n",
       "      <td>1827148</td>\n",
       "      <td>10001012</td>\n",
       "      <td>Phạm Bá Đức</td>\n",
       "      <td>5</td>\n",
       "      <td>Cực kì hài lòng</td>\n",
       "      <td>dễ cài đặt, chất lượng tốt, chế độ xem hồng ng...</td>\n",
       "    </tr>\n",
       "  </tbody>\n",
       "</table>\n",
       "</div>"
      ],
      "text/plain": [
       "   customer_id  product_id               name  rating               title  \\\n",
       "0       709310    10001012   Lân Nguyễn Hoàng       3  Ko dùng đc thẻ nhớ   \n",
       "1     10701688    10001012   Nguyễn Khánh Hòa       5     Cực kì hài lòng   \n",
       "2     11763074    10001012    Toàn Phạm Khánh       5     Cực kì hài lòng   \n",
       "3      9909549    10001012  Nguyen Quang Minh       5        Rất hài lòng   \n",
       "4      1827148    10001012        Phạm Bá Đức       5     Cực kì hài lòng   \n",
       "\n",
       "                                             content  \n",
       "0  Lúcđầu quên thông tin nên dùng 512gb thì ko đc...  \n",
       "1  Tiki giao hàng nhanh. Sản phẩm đúng như mô tả,...  \n",
       "2  chất lượng camera rõ nét, chống mưa nắng tuyệt...  \n",
       "3  Hàng được đóng gói cẩn thận, giao hàng nhanh ,...  \n",
       "4  dễ cài đặt, chất lượng tốt, chế độ xem hồng ng...  "
      ]
     },
     "execution_count": 100,
     "metadata": {},
     "output_type": "execute_result"
    }
   ],
   "source": [
    "reviews.head()"
   ]
  },
  {
   "cell_type": "code",
   "execution_count": 128,
   "id": "17cee8ae",
   "metadata": {},
   "outputs": [
    {
     "data": {
      "text/plain": [
       "5    256211\n",
       "4     60565\n",
       "3     20600\n",
       "1     16616\n",
       "2      7098\n",
       "Name: rating, dtype: int64"
      ]
     },
     "execution_count": 128,
     "metadata": {},
     "output_type": "execute_result"
    }
   ],
   "source": [
    "reviews['rating'].value_counts()"
   ]
  },
  {
   "cell_type": "code",
   "execution_count": 112,
   "id": "ffd4d039",
   "metadata": {},
   "outputs": [
    {
     "data": {
      "image/png": "[encoded data removed]",
      "text/plain": [
       "<Figure size 432x288 with 1 Axes>"
      ]
     },
     "metadata": {},
     "output_type": "display_data"
    }
   ],
   "source": [
    "sb.distplot(reviews['rating']);"
   ]
  },
  {
   "cell_type": "markdown",
   "id": "5421a744",
   "metadata": {},
   "source": [
    "- Ở `Reviews` dataset, điểm rating là số nguyên, điểm đánh giá là số tròn, còn đối với `Products` dataset, điểm rating là số thập phân, range điểm trải dài trên tập số thực từ 0.0 - 5.0."
   ]
  },
  {
   "cell_type": "markdown",
   "id": "1b17c339",
   "metadata": {},
   "source": [
    "- Top 10 sản phẩm được đánh giá nhiều nhất:"
   ]
  },
  {
   "cell_type": "code",
   "execution_count": 115,
   "id": "67201e9f",
   "metadata": {},
   "outputs": [
    {
     "data": {
      "image/png": "[encoded data removed]",
      "text/plain": [
       "<Figure size 720x432 with 1 Axes>"
      ]
     },
     "metadata": {},
     "output_type": "display_data"
    }
   ],
   "source": [
    "d = reviews.groupby('product_id')['rating'].count().sort_values(ascending = False)[: 10]\n",
    "plt.figure(figsize=(10, 6))\n",
    "sb.barplot(d.index, d.values);"
   ]
  },
  {
   "cell_type": "markdown",
   "id": "77736744",
   "metadata": {},
   "source": [
    "- Top 10 title hay được sử dụng trong việc nhận xét sản phẩm:"
   ]
  },
  {
   "cell_type": "code",
   "execution_count": 126,
   "id": "67b726ac",
   "metadata": {},
   "outputs": [
    {
     "data": {
      "image/png": "[encoded data removed]",
      "text/plain": [
       "<Figure size 720x432 with 1 Axes>"
      ]
     },
     "metadata": {},
     "output_type": "display_data"
    }
   ],
   "source": [
    "e = reviews['title'].value_counts().sort_values(ascending = False)[: 10]\n",
    "plt.figure(figsize=(10, 6))\n",
    "sb.barplot(e.index, e.values)\n",
    "plt.xticks(rotation = 45);"
   ]
  },
  {
   "cell_type": "markdown",
   "id": "0f40749c",
   "metadata": {},
   "source": [
    "- Từ biểu đồ có thể thấy, các đánh giá và nhận xét đa phần là tích cực, bên cạnh đó vẫn có một lượng nhỏ đánh giá không hài lòng về sản phẩm."
   ]
  },
  {
   "cell_type": "code",
   "execution_count": null,
   "id": "9c795025",
   "metadata": {},
   "outputs": [],
   "source": []
  }
 ],
 "metadata": {
  "kernelspec": {
   "display_name": "Python 3",
   "language": "python",
   "name": "python3"
  },
  "language_info": {
   "codemirror_mode": {
    "name": "ipython",
    "version": 3
   },
   "file_extension": ".py",
   "mimetype": "text/x-python",
   "name": "python",
   "nbconvert_exporter": "python",
   "pygments_lexer": "ipython3",
   "version": "3.8.10"
  }
 },
 "nbformat": 4,
 "nbformat_minor": 5
}
